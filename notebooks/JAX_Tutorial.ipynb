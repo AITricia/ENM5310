{
  "cells": [
    {
      "cell_type": "markdown",
      "id": "43e0c4d9-69dc-4739-9552-8374ced1ba90",
      "metadata": {
        "id": "43e0c4d9-69dc-4739-9552-8374ced1ba90"
      },
      "source": [
        "# Useful Resources\n",
        "JAX Beginner Guide: https://docs.jax.dev/en/latest/beginner_guide.html#beginner-guide\n",
        "\n",
        "Deep Learning Tutorials: https://uvadlc-notebooks.readthedocs.io/en/latest/index.html\n",
        "\n",
        "JAX GitHub: https://github.com/jax-ml/jax\n",
        "\n",
        "JAX Libraries: https://github.com/n2cholas/awesome-jax\n",
        "\n",
        "Flax: https://flax.readthedocs.io/en/latest/\n",
        "\n",
        "XLA: https://openxla.org/xla\n",
        "\n",
        "Autodiff in JAX: https://docs.jax.dev/en/latest/notebooks/autodiff_cookbook.html\n",
        "\n",
        "Visualizing Graphs: https://bnikolic.co.uk/blog/python/jax/2022/02/22/jax-outputgraph-rev.html\n",
        "\n",
        "LAX: https://docs.jax.dev/en/latest/jax.lax.html"
      ]
    },
    {
      "cell_type": "code",
      "execution_count": 1,
      "id": "9016b7fc",
      "metadata": {},
      "outputs": [],
      "source": [
        "import os\n",
        "os.environ[\"CUDA_DEVICE_ORDER\"] = \"PCI_BUS_ID\"\n",
        "os.environ[\"CUDA_VISIBLE_DEVICES\"] = \"5\"\n",
        "os.environ[\"XLA_PYTHON_CLIENT_MEM_FRACTION\"] = \"1.0\""
      ]
    },
    {
      "cell_type": "code",
      "execution_count": 2,
      "id": "aa7a4a5e",
      "metadata": {},
      "outputs": [],
      "source": [
        "import matplotlib.pyplot as plt\n",
        "import jax.numpy as jnp\n",
        "import matplotlib as mpl\n",
        "import numpy as np\n",
        "import jax\n",
        "import sys\n",
        "\n",
        "np.random.seed(42)"
      ]
    },
    {
      "cell_type": "code",
      "execution_count": 3,
      "id": "4289adca",
      "metadata": {},
      "outputs": [
        {
          "data": {
            "text/plain": [
              "('2.3.3',\n",
              " '0.4.30',\n",
              " '3.9.4',\n",
              " '3.11.11 (main, Dec 11 2024, 16:28:39) [GCC 11.2.0]')"
            ]
          },
          "execution_count": 3,
          "metadata": {},
          "output_type": "execute_result"
        }
      ],
      "source": [
        "np.__version__, jax.__version__,  mpl.__version__, sys.version"
      ]
    },
    {
      "cell_type": "markdown",
      "id": "21703bc5-9919-4a7e-9ee3-dad62781eb64",
      "metadata": {
        "id": "21703bc5-9919-4a7e-9ee3-dad62781eb64"
      },
      "source": [
        "# Change floating point precision"
      ]
    },
    {
      "cell_type": "code",
      "execution_count": 4,
      "id": "680b6bf5-d97e-4704-95f1-c3f565863ea8",
      "metadata": {
        "id": "680b6bf5-d97e-4704-95f1-c3f565863ea8"
      },
      "outputs": [],
      "source": [
        "jax.config.update(\"jax_enable_x64\", False) # Change to 'True'"
      ]
    },
    {
      "cell_type": "markdown",
      "id": "dea6a8d3-b894-43d9-8a48-10ff3dd1e66b",
      "metadata": {
        "id": "dea6a8d3-b894-43d9-8a48-10ff3dd1e66b"
      },
      "source": [
        "# What devices are available?\n",
        "\n",
        "If the GPU is available on your device JAX, will automatically us that as its default device"
      ]
    },
    {
      "cell_type": "code",
      "execution_count": 5,
      "id": "b16a62d2-c9c9-47a5-8332-77a882b72e5f",
      "metadata": {
        "colab": {
          "base_uri": "https://localhost:8080/"
        },
        "id": "b16a62d2-c9c9-47a5-8332-77a882b72e5f",
        "outputId": "b2da4080-a26f-4a0f-fb38-8542cd63ed72"
      },
      "outputs": [
        {
          "data": {
            "text/plain": [
              "[cuda(id=0)]"
            ]
          },
          "execution_count": 5,
          "metadata": {},
          "output_type": "execute_result"
        }
      ],
      "source": [
        "jax.devices()"
      ]
    },
    {
      "cell_type": "markdown",
      "id": "20508493-51da-47b4-b8ee-9dda4d37c82a",
      "metadata": {
        "id": "20508493-51da-47b4-b8ee-9dda4d37c82a"
      },
      "source": [
        "# NumPy vs. JAX\n",
        "\n",
        "JAX arrays are backed by XLA (Accelerated Linear Algebra) which is a compiler that optimizes operations commonly used in data science involving tensors"
      ]
    },
    {
      "cell_type": "code",
      "execution_count": 6,
      "id": "36526e1e-f695-4800-92d3-9260953cfdc9",
      "metadata": {
        "colab": {
          "base_uri": "https://localhost:8080/"
        },
        "id": "36526e1e-f695-4800-92d3-9260953cfdc9",
        "outputId": "25ffc0d9-1f17-4960-bbf5-03250ccd979a"
      },
      "outputs": [
        {
          "name": "stderr",
          "output_type": "stream",
          "text": [
            "2025-09-25 14:32:54.152107: W external/xla/xla/service/gpu/nvptx_compiler.cc:765] The NVIDIA driver's CUDA version is 12.7 which is older than the ptxas CUDA version (12.8.61). Because the driver is older than the ptxas version, XLA is disabling parallel compilation, which may slow down compilation. You should update your NVIDIA driver or use the NVIDIA-provided CUDA forward compatibility packages.\n"
          ]
        },
        {
          "data": {
            "text/plain": [
              "(jaxlib.xla_extension.ArrayImpl, jaxlib.xla_extension.ArrayImpl)"
            ]
          },
          "execution_count": 6,
          "metadata": {},
          "output_type": "execute_result"
        }
      ],
      "source": [
        "ones_jnp = jnp.ones(shape=(3,2), dtype=jnp.float32)\n",
        "ones_jnp.__class__, type(ones_jnp)"
      ]
    },
    {
      "cell_type": "code",
      "execution_count": 7,
      "id": "01b74fe8-f3d5-4c6e-aa4d-c80e492ea464",
      "metadata": {
        "colab": {
          "base_uri": "https://localhost:8080/"
        },
        "id": "01b74fe8-f3d5-4c6e-aa4d-c80e492ea464",
        "outputId": "90b07d17-7883-4719-b983-b61f442eb82a"
      },
      "outputs": [
        {
          "data": {
            "text/plain": [
              "(numpy.ndarray, numpy.ndarray)"
            ]
          },
          "execution_count": 7,
          "metadata": {},
          "output_type": "execute_result"
        }
      ],
      "source": [
        "ones_np = np.ones(shape=(3,2))\n",
        "ones_np.__class__, type(ones_np)"
      ]
    },
    {
      "cell_type": "markdown",
      "id": "7bf8c09c-dfaa-491a-af1c-a7fab96acafc",
      "metadata": {
        "id": "7bf8c09c-dfaa-491a-af1c-a7fab96acafc"
      },
      "source": [
        "# Operations between NumPy arrays and JAX arrays"
      ]
    },
    {
      "cell_type": "code",
      "execution_count": 8,
      "id": "94a74814-e566-43f4-9165-93782a4070c3",
      "metadata": {
        "colab": {
          "base_uri": "https://localhost:8080/"
        },
        "id": "94a74814-e566-43f4-9165-93782a4070c3",
        "outputId": "e9d393f4-c02d-4b3c-a1de-8cdb43644d9a"
      },
      "outputs": [
        {
          "data": {
            "text/plain": [
              "Array([[2., 2.],\n",
              "       [2., 2.],\n",
              "       [2., 2.]], dtype=float32)"
            ]
          },
          "execution_count": 8,
          "metadata": {},
          "output_type": "execute_result"
        }
      ],
      "source": [
        "ones_jnp + ones_np"
      ]
    },
    {
      "cell_type": "code",
      "execution_count": 9,
      "id": "ce878de7-68c3-4853-80f0-4a9a1d3765f6",
      "metadata": {
        "colab": {
          "base_uri": "https://localhost:8080/"
        },
        "id": "ce878de7-68c3-4853-80f0-4a9a1d3765f6",
        "outputId": "c0735a9e-ee13-4d65-a7e7-e53a6c7f15a5"
      },
      "outputs": [
        {
          "data": {
            "text/plain": [
              "jaxlib.xla_extension.ArrayImpl"
            ]
          },
          "execution_count": 9,
          "metadata": {},
          "output_type": "execute_result"
        }
      ],
      "source": [
        "type(ones_jnp + ones_np)"
      ]
    },
    {
      "cell_type": "markdown",
      "id": "cd0a6dbd-bb51-472d-9289-0af00bc0aaf5",
      "metadata": {
        "id": "cd0a6dbd-bb51-472d-9289-0af00bc0aaf5"
      },
      "source": [
        "# Unless you give priority to NumPy the result is usually a JAX array"
      ]
    },
    {
      "cell_type": "code",
      "execution_count": 10,
      "id": "4595bfbf-cd8e-47a6-b1e6-1dcf11450cab",
      "metadata": {
        "colab": {
          "base_uri": "https://localhost:8080/"
        },
        "id": "4595bfbf-cd8e-47a6-b1e6-1dcf11450cab",
        "outputId": "9f488873-1a78-42a7-8854-26d50f8f1bcf"
      },
      "outputs": [
        {
          "data": {
            "text/plain": [
              "(array([[2., 2.],\n",
              "        [2., 2.],\n",
              "        [2., 2.]]),\n",
              " numpy.ndarray)"
            ]
          },
          "execution_count": 10,
          "metadata": {},
          "output_type": "execute_result"
        }
      ],
      "source": [
        "np.add(ones_jnp, ones_np), type(np.add(ones_jnp, ones_np))"
      ]
    },
    {
      "cell_type": "markdown",
      "id": "fLfBARkFv8UP",
      "metadata": {
        "id": "fLfBARkFv8UP"
      },
      "source": [
        "# What if we want to perform computations or load data on the CPU?"
      ]
    },
    {
      "cell_type": "code",
      "execution_count": 11,
      "id": "-biXMrsCxC9a",
      "metadata": {
        "colab": {
          "base_uri": "https://localhost:8080/"
        },
        "id": "-biXMrsCxC9a",
        "outputId": "745b1d36-64fd-4abf-b401-5c74cdf33343"
      },
      "outputs": [
        {
          "data": {
            "text/plain": [
              "{cuda(id=0)}"
            ]
          },
          "execution_count": 11,
          "metadata": {},
          "output_type": "execute_result"
        }
      ],
      "source": [
        "ones_jnp.devices()"
      ]
    },
    {
      "cell_type": "markdown",
      "id": "RwydJTcExtSH",
      "metadata": {
        "id": "RwydJTcExtSH"
      },
      "source": [
        "# `jax.device_get`: GPU to CPU\n"
      ]
    },
    {
      "cell_type": "code",
      "execution_count": 12,
      "id": "67006e48-de63-4f43-84f6-eaa16448c0ed",
      "metadata": {
        "colab": {
          "base_uri": "https://localhost:8080/"
        },
        "id": "67006e48-de63-4f43-84f6-eaa16448c0ed",
        "outputId": "614566c2-3fbd-424b-f469-c5e117a489ea"
      },
      "outputs": [
        {
          "data": {
            "text/plain": [
              "numpy.ndarray"
            ]
          },
          "execution_count": 12,
          "metadata": {},
          "output_type": "execute_result"
        }
      ],
      "source": [
        "ones_jnp_cpu = jax.device_get(ones_jnp)\n",
        "type(ones_jnp_cpu)"
      ]
    },
    {
      "cell_type": "markdown",
      "id": "iifS6xRbyQKp",
      "metadata": {
        "id": "iifS6xRbyQKp"
      },
      "source": [
        "# `jax.device_put`: CPU to GPU"
      ]
    },
    {
      "cell_type": "code",
      "execution_count": 13,
      "id": "iezmu_gjxNKP",
      "metadata": {
        "colab": {
          "base_uri": "https://localhost:8080/"
        },
        "id": "iezmu_gjxNKP",
        "outputId": "c363485f-33ef-4f40-bfbf-85f6f7c269ed"
      },
      "outputs": [
        {
          "data": {
            "text/plain": [
              "(jaxlib.xla_extension.ArrayImpl, {cuda(id=0)})"
            ]
          },
          "execution_count": 13,
          "metadata": {},
          "output_type": "execute_result"
        }
      ],
      "source": [
        "ones_jax_gpu = jax.device_put(ones_jnp_cpu)\n",
        "type(ones_jax_gpu), ones_jax_gpu.devices()"
      ]
    },
    {
      "cell_type": "markdown",
      "id": "XDEiLIL1ypeu",
      "metadata": {
        "id": "XDEiLIL1ypeu"
      },
      "source": [
        "# Modifying JAX and NumPy arrays"
      ]
    },
    {
      "cell_type": "code",
      "execution_count": 14,
      "id": "2Q89lNUizTs-",
      "metadata": {
        "colab": {
          "base_uri": "https://localhost:8080/"
        },
        "id": "2Q89lNUizTs-",
        "outputId": "5ada6bd1-68e3-45d7-b28e-26a5b7817cd1"
      },
      "outputs": [
        {
          "data": {
            "text/plain": [
              "array([0, 2, 4, 6])"
            ]
          },
          "execution_count": 14,
          "metadata": {},
          "output_type": "execute_result"
        }
      ],
      "source": [
        "np_arange = np.arange(0, 8, 2)\n",
        "np_arange"
      ]
    },
    {
      "cell_type": "code",
      "execution_count": 15,
      "id": "80ae08ef-9eab-42e9-8fcb-8f1c458fdd00",
      "metadata": {
        "colab": {
          "base_uri": "https://localhost:8080/"
        },
        "id": "80ae08ef-9eab-42e9-8fcb-8f1c458fdd00",
        "outputId": "c051b37d-9aab-4324-bf4e-0e93e4e463a6"
      },
      "outputs": [
        {
          "data": {
            "text/plain": [
              "array([0, 2, 4, 0])"
            ]
          },
          "execution_count": 15,
          "metadata": {},
          "output_type": "execute_result"
        }
      ],
      "source": [
        "np_arange[-1] = 0.1\n",
        "np_arange"
      ]
    },
    {
      "cell_type": "markdown",
      "id": "fa0333cb-9082-433b-a490-a9d59e0c767c",
      "metadata": {
        "id": "fa0333cb-9082-433b-a490-a9d59e0c767c"
      },
      "source": [
        "# What went wrong here?"
      ]
    },
    {
      "cell_type": "code",
      "execution_count": 16,
      "id": "Sc_t8WrnGgKo",
      "metadata": {
        "colab": {
          "base_uri": "https://localhost:8080/"
        },
        "id": "Sc_t8WrnGgKo",
        "outputId": "863f9862-700b-48df-fe9a-9cd8b2421d81"
      },
      "outputs": [
        {
          "data": {
            "text/plain": [
              "(dtype('int64'), float)"
            ]
          },
          "execution_count": 16,
          "metadata": {},
          "output_type": "execute_result"
        }
      ],
      "source": [
        "np_arange.dtype, type(0.1)"
      ]
    },
    {
      "cell_type": "code",
      "execution_count": 17,
      "id": "dc1411e3-be20-4774-ba5c-d6bffabcf28d",
      "metadata": {
        "colab": {
          "base_uri": "https://localhost:8080/"
        },
        "id": "dc1411e3-be20-4774-ba5c-d6bffabcf28d",
        "outputId": "117e49fb-da1c-4c41-984b-c3e127daed64"
      },
      "outputs": [
        {
          "data": {
            "text/plain": [
              "array([0., 2., 4., 6.], dtype=float32)"
            ]
          },
          "execution_count": 17,
          "metadata": {},
          "output_type": "execute_result"
        }
      ],
      "source": [
        "np_arange = np.arange(0, 8, 2, dtype=np.float32)\n",
        "np_arange"
      ]
    },
    {
      "cell_type": "code",
      "execution_count": 18,
      "id": "776748d7-8cf3-49d9-9fe5-9ced27899240",
      "metadata": {
        "colab": {
          "base_uri": "https://localhost:8080/"
        },
        "id": "776748d7-8cf3-49d9-9fe5-9ced27899240",
        "outputId": "6e9f5816-3683-4bc9-9b8b-df466ba13656"
      },
      "outputs": [
        {
          "data": {
            "text/plain": [
              "array([0. , 2. , 4. , 0.1], dtype=float32)"
            ]
          },
          "execution_count": 18,
          "metadata": {},
          "output_type": "execute_result"
        }
      ],
      "source": [
        "np_arange[-1] = 0.1\n",
        "np_arange"
      ]
    },
    {
      "cell_type": "code",
      "execution_count": 19,
      "id": "005b1d89-cfbc-4027-b8cb-abdbb12cf7cb",
      "metadata": {
        "colab": {
          "base_uri": "https://localhost:8080/"
        },
        "id": "005b1d89-cfbc-4027-b8cb-abdbb12cf7cb",
        "outputId": "39232b84-46bd-47ee-c456-00d157d23190"
      },
      "outputs": [
        {
          "data": {
            "text/plain": [
              "Array([0., 2., 4., 6.], dtype=float32)"
            ]
          },
          "execution_count": 19,
          "metadata": {},
          "output_type": "execute_result"
        }
      ],
      "source": [
        "jnp_arange = jnp.arange(0, 8, 2, dtype=jnp.float32)\n",
        "jnp_arange"
      ]
    },
    {
      "cell_type": "code",
      "execution_count": 20,
      "id": "59b58c5b-986b-451f-95f7-ea8bc034f340",
      "metadata": {
        "colab": {
          "base_uri": "https://localhost:8080/",
          "height": 280
        },
        "id": "59b58c5b-986b-451f-95f7-ea8bc034f340",
        "outputId": "fe95a6fe-5575-4097-dff4-d0b6ba5ebbf7"
      },
      "outputs": [
        {
          "ename": "TypeError",
          "evalue": "'<class 'jaxlib.xla_extension.ArrayImpl'>' object does not support item assignment. JAX arrays are immutable. Instead of ``x[idx] = y``, use ``x = x.at[idx].set(y)`` or another .at[] method: https://jax.readthedocs.io/en/latest/_autosummary/jax.numpy.ndarray.at.html",
          "output_type": "error",
          "traceback": [
            "\u001b[0;31m---------------------------------------------------------------------------\u001b[0m",
            "\u001b[0;31mTypeError\u001b[0m                                 Traceback (most recent call last)",
            "Cell \u001b[0;32mIn[20], line 1\u001b[0m\n\u001b[0;32m----> 1\u001b[0m \u001b[43mjnp_arange\u001b[49m\u001b[43m[\u001b[49m\u001b[38;5;241;43m-\u001b[39;49m\u001b[38;5;241;43m1\u001b[39;49m\u001b[43m]\u001b[49m \u001b[38;5;241m=\u001b[39m \u001b[38;5;241m0.1\u001b[39m\n",
            "File \u001b[0;32m/scratch/shawn/anaconda3/envs/venv_v2/lib/python3.11/site-packages/jax/_src/numpy/array_methods.py:279\u001b[0m, in \u001b[0;36m_unimplemented_setitem\u001b[0;34m(self, i, x)\u001b[0m\n\u001b[1;32m    274\u001b[0m \u001b[38;5;28;01mdef\u001b[39;00m\u001b[38;5;250m \u001b[39m\u001b[38;5;21m_unimplemented_setitem\u001b[39m(\u001b[38;5;28mself\u001b[39m, i, x):\n\u001b[1;32m    275\u001b[0m   msg \u001b[38;5;241m=\u001b[39m (\u001b[38;5;124m\"\u001b[39m\u001b[38;5;124m'\u001b[39m\u001b[38;5;132;01m{}\u001b[39;00m\u001b[38;5;124m'\u001b[39m\u001b[38;5;124m object does not support item assignment. JAX arrays are \u001b[39m\u001b[38;5;124m\"\u001b[39m\n\u001b[1;32m    276\u001b[0m          \u001b[38;5;124m\"\u001b[39m\u001b[38;5;124mimmutable. Instead of ``x[idx] = y``, use ``x = x.at[idx].set(y)`` \u001b[39m\u001b[38;5;124m\"\u001b[39m\n\u001b[1;32m    277\u001b[0m          \u001b[38;5;124m\"\u001b[39m\u001b[38;5;124mor another .at[] method: \u001b[39m\u001b[38;5;124m\"\u001b[39m\n\u001b[1;32m    278\u001b[0m          \u001b[38;5;124m\"\u001b[39m\u001b[38;5;124mhttps://jax.readthedocs.io/en/latest/_autosummary/jax.numpy.ndarray.at.html\u001b[39m\u001b[38;5;124m\"\u001b[39m)\n\u001b[0;32m--> 279\u001b[0m   \u001b[38;5;28;01mraise\u001b[39;00m \u001b[38;5;167;01mTypeError\u001b[39;00m(msg\u001b[38;5;241m.\u001b[39mformat(\u001b[38;5;28mtype\u001b[39m(\u001b[38;5;28mself\u001b[39m)))\n",
            "\u001b[0;31mTypeError\u001b[0m: '<class 'jaxlib.xla_extension.ArrayImpl'>' object does not support item assignment. JAX arrays are immutable. Instead of ``x[idx] = y``, use ``x = x.at[idx].set(y)`` or another .at[] method: https://jax.readthedocs.io/en/latest/_autosummary/jax.numpy.ndarray.at.html"
          ]
        }
      ],
      "source": [
        "jnp_arange[-1] = 0.1"
      ]
    },
    {
      "cell_type": "markdown",
      "id": "feaedced-ba8c-4fbf-a1dd-3b42e1fce1e8",
      "metadata": {
        "id": "feaedced-ba8c-4fbf-a1dd-3b42e1fce1e8"
      },
      "source": [
        "### JAX arrays are immutable meaning we cannot modify them in-place like we can in NumPy. This is done because JAX is designed to operate in a functional programming type of way where pretty much everything is done in terms of functions. Functions should be pure making it easier to track and follow what they are doing. Functions generally should not depend on things like arrays that are not apart of their inputs or are defined outside (avoid side-effects)!"
      ]
    },
    {
      "cell_type": "code",
      "execution_count": 21,
      "id": "59713e53-a7d4-4b16-aab6-4e51eeaf0e2c",
      "metadata": {
        "colab": {
          "base_uri": "https://localhost:8080/"
        },
        "id": "59713e53-a7d4-4b16-aab6-4e51eeaf0e2c",
        "outputId": "b8d22db9-195c-4ca5-b23b-a662c805c47a"
      },
      "outputs": [
        {
          "data": {
            "text/plain": [
              "Array([0. , 2. , 4. , 0.1], dtype=float32)"
            ]
          },
          "execution_count": 21,
          "metadata": {},
          "output_type": "execute_result"
        }
      ],
      "source": [
        "jnp_arange = jnp_arange.at[-1].set(0.1)\n",
        "jnp_arange"
      ]
    },
    {
      "cell_type": "markdown",
      "id": "3836fcb6-adca-4196-b8ec-00870303eee2",
      "metadata": {
        "id": "3836fcb6-adca-4196-b8ec-00870303eee2"
      },
      "source": [
        "# Random Numbers and distributions\n",
        "\n",
        "JAX wants things to be pure, with no side-effects and high reproducibility. This is desirable in context where we deal with random numbers like in machine learinng"
      ]
    },
    {
      "cell_type": "code",
      "execution_count": 22,
      "id": "b19fe639-9c23-4be8-93e4-012b608024d8",
      "metadata": {
        "id": "b19fe639-9c23-4be8-93e4-012b608024d8"
      },
      "outputs": [],
      "source": [
        "np_random_num1 = np.random.normal()\n",
        "np_random_num2 = np.random.normal()"
      ]
    },
    {
      "cell_type": "code",
      "execution_count": 23,
      "id": "42a3fdc7-ba3e-436e-9861-56340cac4a3c",
      "metadata": {
        "colab": {
          "base_uri": "https://localhost:8080/"
        },
        "id": "42a3fdc7-ba3e-436e-9861-56340cac4a3c",
        "outputId": "5ea035aa-08b1-4876-c750-df9c1201439b"
      },
      "outputs": [
        {
          "data": {
            "text/plain": [
              "(0.4967141530112327, -0.13826430117118466)"
            ]
          },
          "execution_count": 23,
          "metadata": {},
          "output_type": "execute_result"
        }
      ],
      "source": [
        "np_random_num1, np_random_num2"
      ]
    },
    {
      "cell_type": "markdown",
      "id": "35cde5cb-e047-4b6b-a477-727810c407b5",
      "metadata": {
        "id": "35cde5cb-e047-4b6b-a477-727810c407b5"
      },
      "source": [
        "This is not ideal for ease of reproducibility. We are calling the same function, which the same inputs (none) and getting completely different results."
      ]
    },
    {
      "cell_type": "code",
      "execution_count": 24,
      "id": "3a935f16-249b-4e98-abc2-3d0302ad4dce",
      "metadata": {
        "id": "3a935f16-249b-4e98-abc2-3d0302ad4dce"
      },
      "outputs": [
        {
          "data": {
            "text/plain": [
              "Array([ 0, 42], dtype=uint32)"
            ]
          },
          "execution_count": 24,
          "metadata": {},
          "output_type": "execute_result"
        }
      ],
      "source": [
        "key = jax.random.PRNGKey(42)\n",
        "key"
      ]
    },
    {
      "cell_type": "code",
      "execution_count": 25,
      "id": "5ef7f543-c91f-4bd4-b87c-d717d36fdc97",
      "metadata": {
        "id": "5ef7f543-c91f-4bd4-b87c-d717d36fdc97"
      },
      "outputs": [],
      "source": [
        "jax_random_num1 = jax.random.normal(key)\n",
        "jax_random_num2 = jax.random.normal(key)"
      ]
    },
    {
      "cell_type": "code",
      "execution_count": 26,
      "id": "697fec0b-1c71-4a95-9d88-cdbb2d70d344",
      "metadata": {
        "colab": {
          "base_uri": "https://localhost:8080/"
        },
        "id": "697fec0b-1c71-4a95-9d88-cdbb2d70d344",
        "outputId": "49f8a3bf-e25b-4f2d-c422-28542b41a554"
      },
      "outputs": [
        {
          "data": {
            "text/plain": [
              "(-0.1847117692232132, -0.1847117692232132)"
            ]
          },
          "execution_count": 26,
          "metadata": {},
          "output_type": "execute_result"
        }
      ],
      "source": [
        "jax_random_num1.item(), jax_random_num2.item()"
      ]
    },
    {
      "cell_type": "markdown",
      "id": "5d856580-c163-4f76-9acd-d59563ca36f0",
      "metadata": {
        "id": "5d856580-c163-4f76-9acd-d59563ca36f0"
      },
      "source": [
        "Each time we sample the normal though we wouldn't expect to get the same exact output. Remember, these functions should have no side-effects, the same input means the same output\n",
        "\n",
        "To generate new or \"unique\" samples we use a new key that is dependent on the previous key"
      ]
    },
    {
      "cell_type": "code",
      "execution_count": 27,
      "id": "8e730923-6ea8-49a2-a0ac-5171ce49cebc",
      "metadata": {
        "id": "8e730923-6ea8-49a2-a0ac-5171ce49cebc"
      },
      "outputs": [
        {
          "data": {
            "text/plain": [
              "(Array([3134548294, 3733159049], dtype=uint32),\n",
              " Array([3746501087,  894150801], dtype=uint32),\n",
              " Array([ 801545058, 2363201431], dtype=uint32))"
            ]
          },
          "execution_count": 27,
          "metadata": {},
          "output_type": "execute_result"
        }
      ],
      "source": [
        "key, subkey1, subkey2 = jax.random.split(key, num=3)\n",
        "key, subkey1, subkey2"
      ]
    },
    {
      "cell_type": "code",
      "execution_count": 28,
      "id": "bc9093d3-a7eb-47a1-a86a-983d743ab12d",
      "metadata": {
        "id": "bc9093d3-a7eb-47a1-a86a-983d743ab12d"
      },
      "outputs": [
        {
          "data": {
            "text/plain": [
              "(0.10796153545379639, -1.2226542234420776)"
            ]
          },
          "execution_count": 28,
          "metadata": {},
          "output_type": "execute_result"
        }
      ],
      "source": [
        "jax_random_num1 = jax.random.normal(subkey1)\n",
        "jax_random_num2 = jax.random.normal(subkey2)\n",
        "\n",
        "jax_random_num1.item(), jax_random_num2.item()"
      ]
    },
    {
      "cell_type": "markdown",
      "id": "f841bc07-f79e-4c6f-95d2-c714b3190410",
      "metadata": {
        "id": "f841bc07-f79e-4c6f-95d2-c714b3190410"
      },
      "source": [
        "# Computational Graphs"
      ]
    },
    {
      "cell_type": "code",
      "execution_count": 29,
      "id": "cc342f9a-ea22-4a5c-9b92-121af0ff1816",
      "metadata": {
        "id": "cc342f9a-ea22-4a5c-9b92-121af0ff1816"
      },
      "outputs": [],
      "source": [
        "def my_func(x):\n",
        "    x = x + 2\n",
        "    x = x / 2\n",
        "    x = x.sum()\n",
        "    return x"
      ]
    },
    {
      "cell_type": "code",
      "execution_count": 30,
      "id": "2d37e4c1-d254-4d12-8c8c-a21719b6ac50",
      "metadata": {
        "colab": {
          "base_uri": "https://localhost:8080/"
        },
        "id": "2d37e4c1-d254-4d12-8c8c-a21719b6ac50",
        "outputId": "de7483ed-0fd6-4bf0-ffbf-fc43e1ccdf71"
      },
      "outputs": [
        {
          "data": {
            "text/plain": [
              "Array([0., 1.], dtype=float32)"
            ]
          },
          "execution_count": 30,
          "metadata": {},
          "output_type": "execute_result"
        }
      ],
      "source": [
        "inp = jnp.arange(2.0)\n",
        "inp"
      ]
    },
    {
      "cell_type": "code",
      "execution_count": 31,
      "id": "17fd289c-4bac-4a46-8032-dfc7264ba225",
      "metadata": {
        "colab": {
          "base_uri": "https://localhost:8080/"
        },
        "id": "17fd289c-4bac-4a46-8032-dfc7264ba225",
        "outputId": "4b2daa50-977f-40e5-c01a-198fd284a39f"
      },
      "outputs": [
        {
          "data": {
            "text/plain": [
              "Array(2.5, dtype=float32)"
            ]
          },
          "execution_count": 31,
          "metadata": {},
          "output_type": "execute_result"
        }
      ],
      "source": [
        "my_func(inp)"
      ]
    },
    {
      "cell_type": "code",
      "execution_count": 32,
      "id": "a9a36874-2ab3-41a5-8a09-b44250ef70ca",
      "metadata": {
        "colab": {
          "base_uri": "https://localhost:8080/"
        },
        "id": "a9a36874-2ab3-41a5-8a09-b44250ef70ca",
        "outputId": "e3be6798-995f-436a-bb8e-76c9e563c8e5"
      },
      "outputs": [
        {
          "data": {
            "text/plain": [
              "{ lambda ; a:f32[2]. let\n",
              "    b:f32[2] = add a 2.0\n",
              "    c:f32[2] = div b 2.0\n",
              "    d:f32[] = reduce_sum[axes=(0,)] c\n",
              "  in (d,) }"
            ]
          },
          "execution_count": 32,
          "metadata": {},
          "output_type": "execute_result"
        }
      ],
      "source": [
        "jax.make_jaxpr(my_func)(inp)"
      ]
    },
    {
      "cell_type": "markdown",
      "id": "47002528-6a0f-42fa-b39a-29e927bc566a",
      "metadata": {
        "id": "47002528-6a0f-42fa-b39a-29e927bc566a"
      },
      "source": [
        "# Derivatives"
      ]
    },
    {
      "cell_type": "code",
      "execution_count": 33,
      "id": "03063b97-de72-411f-9a1c-d4dd63236806",
      "metadata": {
        "id": "03063b97-de72-411f-9a1c-d4dd63236806"
      },
      "outputs": [],
      "source": [
        "def polynomial(x):\n",
        "    return x**2 + 4*x + 5"
      ]
    },
    {
      "cell_type": "code",
      "execution_count": 34,
      "id": "431cc9d8-c6b3-4e58-abc3-a4daccc5e979",
      "metadata": {
        "colab": {
          "base_uri": "https://localhost:8080/"
        },
        "id": "431cc9d8-c6b3-4e58-abc3-a4daccc5e979",
        "outputId": "e1bea200-e167-4bca-dc8e-3ace87d461d7"
      },
      "outputs": [
        {
          "data": {
            "text/plain": [
              "{ lambda ; a:f32[]. let\n",
              "    b:f32[] = integer_pow[y=2] a\n",
              "    c:f32[] = mul 4.0 a\n",
              "    d:f32[] = add b c\n",
              "    e:f32[] = add d 5.0\n",
              "  in (e,) }"
            ]
          },
          "execution_count": 34,
          "metadata": {},
          "output_type": "execute_result"
        }
      ],
      "source": [
        "inp = 1.0\n",
        "jax.make_jaxpr(polynomial)(inp)"
      ]
    },
    {
      "cell_type": "markdown",
      "id": "ec9bd298-2086-42b3-b73b-38809257c93a",
      "metadata": {
        "id": "ec9bd298-2086-42b3-b73b-38809257c93a"
      },
      "source": [
        "If the output of our function is a scalar then use ```jax.grad```"
      ]
    },
    {
      "cell_type": "code",
      "execution_count": 35,
      "id": "f95a240c-97e6-4f9a-9882-df3db233e232",
      "metadata": {
        "colab": {
          "base_uri": "https://localhost:8080/"
        },
        "id": "f95a240c-97e6-4f9a-9882-df3db233e232",
        "outputId": "ab78ef50-6f53-49ed-bdfc-33fc4a7981a0"
      },
      "outputs": [
        {
          "data": {
            "text/plain": [
              "6.0"
            ]
          },
          "execution_count": 35,
          "metadata": {},
          "output_type": "execute_result"
        }
      ],
      "source": [
        "dy_dx = jax.grad(polynomial, argnums=0)\n",
        "dy_dx(inp).item()"
      ]
    },
    {
      "cell_type": "markdown",
      "id": "45f12765-9337-4628-ac4a-6645807a2695",
      "metadata": {
        "id": "45f12765-9337-4628-ac4a-6645807a2695"
      },
      "source": [
        "We can also look at the derivatives graph"
      ]
    },
    {
      "cell_type": "code",
      "execution_count": 36,
      "id": "e6698e3a-89d5-472c-a0aa-5dfb61a1938a",
      "metadata": {
        "colab": {
          "base_uri": "https://localhost:8080/"
        },
        "id": "e6698e3a-89d5-472c-a0aa-5dfb61a1938a",
        "outputId": "9d0d8e44-4e87-4a0b-970c-82f48b01f147"
      },
      "outputs": [
        {
          "data": {
            "text/plain": [
              "{ lambda ; a:f32[]. let\n",
              "    b:f32[] = integer_pow[y=2] a\n",
              "    c:f32[] = integer_pow[y=1] a\n",
              "    d:f32[] = mul 2.0 c\n",
              "    e:f32[] = mul 4.0 a\n",
              "    f:f32[] = add b e\n",
              "    _:f32[] = add f 5.0\n",
              "    g:f32[] = mul 4.0 1.0\n",
              "    h:f32[] = mul 1.0 d\n",
              "    i:f32[] = add_any g h\n",
              "  in (i,) }"
            ]
          },
          "execution_count": 36,
          "metadata": {},
          "output_type": "execute_result"
        }
      ],
      "source": [
        "jax.make_jaxpr(dy_dx)(inp)"
      ]
    },
    {
      "cell_type": "markdown",
      "id": "4e2d0fd1-9ee6-4913-b14e-0d2fc6fa62b3",
      "metadata": {
        "id": "4e2d0fd1-9ee6-4913-b14e-0d2fc6fa62b3"
      },
      "source": [
        "To take derivatives with respect to other arguments"
      ]
    },
    {
      "cell_type": "code",
      "execution_count": 37,
      "id": "42f7862a-1167-4113-bedf-f39d42a783a6",
      "metadata": {
        "id": "42f7862a-1167-4113-bedf-f39d42a783a6"
      },
      "outputs": [],
      "source": [
        "def polynomial_2d(x, y):\n",
        "    return x**2 + y**2"
      ]
    },
    {
      "cell_type": "code",
      "execution_count": 38,
      "id": "ab41095c-cef1-4c05-a3bd-d34f608c071d",
      "metadata": {
        "colab": {
          "base_uri": "https://localhost:8080/"
        },
        "id": "ab41095c-cef1-4c05-a3bd-d34f608c071d",
        "outputId": "58af2e0b-2a2f-406e-c075-d35ad3a0fc58"
      },
      "outputs": [
        {
          "data": {
            "text/plain": [
              "(4.0, 2.0)"
            ]
          },
          "execution_count": 38,
          "metadata": {},
          "output_type": "execute_result"
        }
      ],
      "source": [
        "inp_x = 2.0\n",
        "inp_y = 1.0\n",
        "\n",
        "df_dx = jax.grad(polynomial_2d, argnums=0)(inp_x, inp_y)\n",
        "df_dy = jax.grad(polynomial_2d, argnums=1)(inp_x, inp_y)\n",
        "\n",
        "df_dx.item(), df_dy.item()"
      ]
    },
    {
      "cell_type": "markdown",
      "id": "82643935-2f11-4a36-86f4-3e5992d851ca",
      "metadata": {
        "id": "82643935-2f11-4a36-86f4-3e5992d851ca"
      },
      "source": [
        "Let's say we want to get both in one shot"
      ]
    },
    {
      "cell_type": "code",
      "execution_count": 39,
      "id": "385ba920-f4b9-4658-b392-0a47b280056a",
      "metadata": {
        "colab": {
          "base_uri": "https://localhost:8080/"
        },
        "id": "385ba920-f4b9-4658-b392-0a47b280056a",
        "outputId": "f8361ebd-7b0d-4045-e4f9-7d69cf7491a6"
      },
      "outputs": [
        {
          "data": {
            "text/plain": [
              "(4.0, 2.0)"
            ]
          },
          "execution_count": 39,
          "metadata": {},
          "output_type": "execute_result"
        }
      ],
      "source": [
        "df_dx, df_dy = jax.grad(polynomial_2d, argnums=(0,1))(inp_x, inp_y)\n",
        "df_dx.item(), df_dy.item()"
      ]
    },
    {
      "cell_type": "markdown",
      "id": "b2286d54-85c3-419c-a51a-7b1f9813d4d9",
      "metadata": {
        "id": "b2286d54-85c3-419c-a51a-7b1f9813d4d9"
      },
      "source": [
        "To get the value of the function and derivative"
      ]
    },
    {
      "cell_type": "code",
      "execution_count": 40,
      "id": "adaf9ae7-2981-4e52-9ed1-59da0400a1e7",
      "metadata": {
        "colab": {
          "base_uri": "https://localhost:8080/"
        },
        "id": "adaf9ae7-2981-4e52-9ed1-59da0400a1e7",
        "outputId": "167f98c2-2ad1-45dd-d675-f9674e48b4ae"
      },
      "outputs": [],
      "source": [
        "value, grad = jax.value_and_grad(polynomial_2d, argnums=(0,1))(inp_x, inp_y)"
      ]
    },
    {
      "cell_type": "markdown",
      "id": "b03da035",
      "metadata": {},
      "source": [
        "Alternatively"
      ]
    },
    {
      "cell_type": "code",
      "execution_count": 41,
      "id": "b6263007",
      "metadata": {},
      "outputs": [
        {
          "data": {
            "text/plain": [
              "(5.0, 4.0, 2.0)"
            ]
          },
          "execution_count": 41,
          "metadata": {},
          "output_type": "execute_result"
        }
      ],
      "source": [
        "value, (df_dx, df_dy) = jax.value_and_grad(polynomial_2d, argnums=(0,1))(inp_x, inp_y)\n",
        "value.item(), df_dx.item(), df_dy.item()"
      ]
    },
    {
      "cell_type": "markdown",
      "id": "59cc857c-229a-49b6-9e15-36e9d7f9ebf4",
      "metadata": {
        "id": "59cc857c-229a-49b6-9e15-36e9d7f9ebf4"
      },
      "source": [
        "What if our function has more than one output"
      ]
    },
    {
      "cell_type": "code",
      "execution_count": 42,
      "id": "dc7adb28-7b50-494c-9655-eec57ebd2a83",
      "metadata": {
        "id": "dc7adb28-7b50-494c-9655-eec57ebd2a83"
      },
      "outputs": [],
      "source": [
        "def new_func(x,y):\n",
        "    z = x + y\n",
        "    return x**2 + y**2, z"
      ]
    },
    {
      "cell_type": "code",
      "execution_count": 43,
      "id": "e61cf2ea-76a1-4349-9be3-76baebc42140",
      "metadata": {
        "colab": {
          "base_uri": "https://localhost:8080/"
        },
        "id": "e61cf2ea-76a1-4349-9be3-76baebc42140",
        "outputId": "a65a8cf8-39e0-41da-ab11-ba5c7ec912b4"
      },
      "outputs": [
        {
          "data": {
            "text/plain": [
              "(5.0, 3.0, 4.0)"
            ]
          },
          "execution_count": 43,
          "metadata": {},
          "output_type": "execute_result"
        }
      ],
      "source": [
        "(value, aux), grad = jax.value_and_grad(new_func, argnums=0, has_aux=True)(inp_x, inp_y)\n",
        "value.item(), aux.item(), grad.item()"
      ]
    },
    {
      "cell_type": "markdown",
      "id": "ac42df6a-25fb-4e17-a20c-c1770bd28be1",
      "metadata": {
        "id": "ac42df6a-25fb-4e17-a20c-c1770bd28be1"
      },
      "source": [
        "Second, third, fourth, ... derivative? Stack them!"
      ]
    },
    {
      "cell_type": "code",
      "execution_count": 44,
      "id": "56a29ee6-fbf7-4cf7-9a67-a750456633bf",
      "metadata": {
        "colab": {
          "base_uri": "https://localhost:8080/"
        },
        "id": "56a29ee6-fbf7-4cf7-9a67-a750456633bf",
        "outputId": "b2cc110d-d16a-4981-9128-2d52656ed193"
      },
      "outputs": [
        {
          "data": {
            "text/plain": [
              "120.0"
            ]
          },
          "execution_count": 44,
          "metadata": {},
          "output_type": "execute_result"
        }
      ],
      "source": [
        "def ex_func(x):\n",
        "    return x**5\n",
        "\n",
        "grad_fn = jax.grad\n",
        "grad_fn(grad_fn(grad_fn(grad_fn(grad_fn(ex_func)))))(454.0211).item() # d^n/dx^n (x^n) = n! (doesnt depend on x)"
      ]
    },
    {
      "cell_type": "code",
      "execution_count": 45,
      "id": "65e615e9",
      "metadata": {},
      "outputs": [
        {
          "data": {
            "text/plain": [
              "0.0"
            ]
          },
          "execution_count": 45,
          "metadata": {},
          "output_type": "execute_result"
        }
      ],
      "source": [
        "grad_fn(grad_fn(grad_fn(grad_fn(grad_fn(grad_fn(ex_func))))))(9262.0371).item() # d^n/dx^n (x^{n+j}) = 0, j>1"
      ]
    },
    {
      "cell_type": "markdown",
      "id": "21e973a0-51f6-409f-a62f-8ca99dcaff4e",
      "metadata": {
        "id": "21e973a0-51f6-409f-a62f-8ca99dcaff4e"
      },
      "source": [
        "Much of the time in machine learning we end up taking derivatives of functions that output scalar but what if our output is not? This calls for the Jacobian"
      ]
    },
    {
      "cell_type": "code",
      "execution_count": 46,
      "id": "f9fea278-f199-4e11-8a4e-b053850058d9",
      "metadata": {
        "id": "f9fea278-f199-4e11-8a4e-b053850058d9"
      },
      "outputs": [],
      "source": [
        "def vector_func(vector):\n",
        "    new_vector = 3*vector\n",
        "    result = new_vector + 2\n",
        "    return result"
      ]
    },
    {
      "cell_type": "code",
      "execution_count": 47,
      "id": "13b5a203-71a1-4868-b9da-48f358fdfcf4",
      "metadata": {
        "id": "13b5a203-71a1-4868-b9da-48f358fdfcf4"
      },
      "outputs": [],
      "source": [
        "inp_vector = jnp.array([-1.0, 3.0])"
      ]
    },
    {
      "cell_type": "code",
      "execution_count": 48,
      "id": "643188e7-9669-4c35-b460-e7458b5ced3a",
      "metadata": {
        "colab": {
          "base_uri": "https://localhost:8080/",
          "height": 297
        },
        "id": "643188e7-9669-4c35-b460-e7458b5ced3a",
        "outputId": "de1b8857-450c-441a-ac70-1cf2e42771d8"
      },
      "outputs": [
        {
          "ename": "TypeError",
          "evalue": "Gradient only defined for scalar-output functions. Output had shape: (2,).",
          "output_type": "error",
          "traceback": [
            "\u001b[0;31m---------------------------------------------------------------------------\u001b[0m",
            "\u001b[0;31mTypeError\u001b[0m                                 Traceback (most recent call last)",
            "Cell \u001b[0;32mIn[48], line 1\u001b[0m\n\u001b[0;32m----> 1\u001b[0m \u001b[43mjax\u001b[49m\u001b[38;5;241;43m.\u001b[39;49m\u001b[43mgrad\u001b[49m\u001b[43m(\u001b[49m\u001b[43mvector_func\u001b[49m\u001b[43m)\u001b[49m\u001b[43m(\u001b[49m\u001b[43minp_vector\u001b[49m\u001b[43m)\u001b[49m\n",
            "    \u001b[0;31m[... skipping hidden 4 frame]\u001b[0m\n",
            "File \u001b[0;32m/scratch/shawn/anaconda3/envs/venv_v2/lib/python3.11/site-packages/jax/_src/api.py:715\u001b[0m, in \u001b[0;36m_check_scalar\u001b[0;34m(x)\u001b[0m\n\u001b[1;32m    713\u001b[0m \u001b[38;5;28;01mif\u001b[39;00m \u001b[38;5;28misinstance\u001b[39m(aval, ShapedArray):\n\u001b[1;32m    714\u001b[0m   \u001b[38;5;28;01mif\u001b[39;00m aval\u001b[38;5;241m.\u001b[39mshape \u001b[38;5;241m!=\u001b[39m ():\n\u001b[0;32m--> 715\u001b[0m     \u001b[38;5;28;01mraise\u001b[39;00m \u001b[38;5;167;01mTypeError\u001b[39;00m(msg(\u001b[38;5;124mf\u001b[39m\u001b[38;5;124m\"\u001b[39m\u001b[38;5;124mhad shape: \u001b[39m\u001b[38;5;132;01m{\u001b[39;00maval\u001b[38;5;241m.\u001b[39mshape\u001b[38;5;132;01m}\u001b[39;00m\u001b[38;5;124m\"\u001b[39m))\n\u001b[1;32m    716\u001b[0m \u001b[38;5;28;01melse\u001b[39;00m:\n\u001b[1;32m    717\u001b[0m   \u001b[38;5;28;01mraise\u001b[39;00m \u001b[38;5;167;01mTypeError\u001b[39;00m(msg(\u001b[38;5;124mf\u001b[39m\u001b[38;5;124m\"\u001b[39m\u001b[38;5;124mhad abstract value \u001b[39m\u001b[38;5;132;01m{\u001b[39;00maval\u001b[38;5;132;01m}\u001b[39;00m\u001b[38;5;124m\"\u001b[39m))\n",
            "\u001b[0;31mTypeError\u001b[0m: Gradient only defined for scalar-output functions. Output had shape: (2,)."
          ]
        }
      ],
      "source": [
        "jax.grad(vector_func)(inp_vector)"
      ]
    },
    {
      "cell_type": "code",
      "execution_count": 49,
      "id": "287effe0-0481-4d95-8cee-470916965136",
      "metadata": {
        "colab": {
          "base_uri": "https://localhost:8080/"
        },
        "id": "287effe0-0481-4d95-8cee-470916965136",
        "outputId": "292323d2-a844-4c1b-db8e-b619a3d99d45"
      },
      "outputs": [
        {
          "data": {
            "text/plain": [
              "Array([[3., 0.],\n",
              "       [0., 3.]], dtype=float32)"
            ]
          },
          "execution_count": 49,
          "metadata": {},
          "output_type": "execute_result"
        }
      ],
      "source": [
        "jax.jacobian(vector_func)(inp_vector)"
      ]
    },
    {
      "cell_type": "markdown",
      "id": "d35fd3d6-504d-4d83-bcfb-ea4c36ac19ee",
      "metadata": {
        "id": "d35fd3d6-504d-4d83-bcfb-ea4c36ac19ee"
      },
      "source": [
        "The Jacobian is given by\n",
        "$$\n",
        "\\nabla \\mathbf{f} =\n",
        "\\begin{bmatrix}\n",
        "    \\dfrac{\\partial \\mathbf{f}}{\\partial x_1} & \\cdots & \\dfrac{\\partial \\mathbf{f}}{\\partial x_n}\n",
        "\\end{bmatrix} =\n",
        "\\begin{bmatrix}\n",
        "    \\nabla^T f_1 \\\\\n",
        "    \\vdots \\\\\n",
        "    \\nabla^T f_m\n",
        "\\end{bmatrix} =\n",
        "\\begin{bmatrix}\n",
        "    \\dfrac{\\partial f_1}{\\partial x_1} & \\cdots & \\dfrac{\\partial f_1}{\\partial x_n} \\\\\n",
        "    \\vdots & \\ddots & \\vdots \\\\\n",
        "    \\dfrac{\\partial f_m}{\\partial x_1} & \\cdots & \\dfrac{\\partial f_m}{\\partial x_n}\n",
        "\\end{bmatrix}\n",
        "$$\n",
        "In our case\n",
        "$$ f(\\mathbf{X}) = 3X + 2, \\quad \\mathbf{X}\\in\\mathbb{R}^{2}$$\n",
        "\n",
        "$$ \\mathbf{f} = [f_1, f_2]^T, \\quad \\mathbf{X} = [x_1, x_2]^T$$\n",
        "\n",
        "The first element of $\\mathbf{f}$ is not influenced by the second element of $\\mathbf{X}$ and vice-versa so the anti-diagonal is zero  \n",
        "\n",
        "$$\n",
        "\\nabla \\mathbf{f} =\n",
        "\\begin{bmatrix}\n",
        "    \\dfrac{\\partial f_1}{\\partial x_1} & \\dfrac{\\partial f_1}{\\partial x_2} \\\\\n",
        "    \\dfrac{\\partial f_2}{\\partial x_1} & \\dfrac{\\partial f_2}{\\partial x_2}\n",
        "\\end{bmatrix} =\n",
        "\\begin{bmatrix}\n",
        "    3 & 0 \\\\\n",
        "    0 & 3\n",
        "\\end{bmatrix}\n",
        "$$"
      ]
    },
    {
      "cell_type": "markdown",
      "id": "e75d1c3e-74b8-489b-8440-229feba539cc",
      "metadata": {
        "id": "e75d1c3e-74b8-489b-8440-229feba539cc"
      },
      "source": [
        "The powerful part about this is that no matter how comlicated our function, as long as we have the function we can take its derivative\n",
        "\n",
        "$$\n",
        "\\begin{gather}f(x, y, z, w, v) = \\\\\\dfrac{\\sin\\left(e^{x^2 + y^2} + \\cosh(wz)\\right) + \\log\\left(1 + w^2 \\cosh(z) + v^3\\right) - \\dfrac{x^3 y^2}{z + e^{-w} + \\tan(v)} + \\arctan\\left(\\dfrac{y}{x + z^2 + \\sinh(vw)}\\right) e^{-\\sin(w) + \\cos(yz)} + \\dfrac{\\ln(1 + x^2 + y^2)}{1 + v^4 w^2}}{\\dfrac{\\text{erf}(xz)}{z^y}\\left(1 + (5xy)^2 + y^2 + z^2 + w^2 + v^2 + e^{-|x+y+z|} + \\dfrac{\\cosh(w)}{\\log_2\\left(\\frac{x}{y}\\right)}\\right)}\n",
        "\\end{gather}\n",
        " $$"
      ]
    },
    {
      "cell_type": "code",
      "execution_count": 50,
      "id": "07196d63-76e0-4347-9d73-4e4ddb0eec16",
      "metadata": {
        "colab": {
          "base_uri": "https://localhost:8080/"
        },
        "id": "07196d63-76e0-4347-9d73-4e4ddb0eec16",
        "outputId": "4c4739f1-c7ad-4350-8fbf-9a651edacda7"
      },
      "outputs": [
        {
          "data": {
            "text/plain": [
              "(-1.4099465608596802,\n",
              " -1.9902960062026978,\n",
              " -0.12008089572191238,\n",
              " -0.09395186603069305,\n",
              " 0.015689322724938393)"
            ]
          },
          "execution_count": 50,
          "metadata": {},
          "output_type": "execute_result"
        }
      ],
      "source": [
        "def crazy_function(x, y, z, w, v):\n",
        "    numerator = (\n",
        "        jnp.sin(jnp.exp(x**2 + y**2) + jnp.cosh(w * z)) +\n",
        "        jnp.log(1 + w**2 * jnp.cosh(z) + v**3) -\n",
        "        (x**3 * y**2) / (z + jnp.exp(-w) + jnp.tan(v)) +\n",
        "        jnp.arctan(y / (x + z**2 + jnp.sinh(v * w))) * jnp.exp(-jnp.sin(w) + jnp.cos(y * z)) +\n",
        "        jnp.log(1 + x**2 + y**2) / (1 + v**4 * w**2)\n",
        "    )\n",
        "\n",
        "    denominator = jax.lax.erf(x*z)/(z**y) * \\\n",
        "                  (1 + (5*x*y)**2 + y**2 + z**2 + w**2 + v**2 + jnp.exp(-jnp.abs(x + y + z)) + (jnp.cosh(w) / (jnp.log2(x / y))))\n",
        "\n",
        "    return numerator / denominator\n",
        "\n",
        "vals = abs(jax.random.normal(jax.random.PRNGKey(3853), shape=(5,)))\n",
        "derivative = jax.grad(crazy_function, argnums=(0,1,2,3,4))(*vals)\n",
        "\n",
        "tuple(deriv.item() for deriv in derivative)"
      ]
    },
    {
      "cell_type": "markdown",
      "id": "14dd6527-dfe5-4390-af08-b1ecc3cc5884",
      "metadata": {
        "id": "14dd6527-dfe5-4390-af08-b1ecc3cc5884"
      },
      "source": [
        "How long does this take, how long would it take you?"
      ]
    },
    {
      "cell_type": "code",
      "execution_count": 51,
      "id": "a8598318-456b-4fd7-9d58-dae5b31f3e8b",
      "metadata": {
        "colab": {
          "base_uri": "https://localhost:8080/"
        },
        "id": "a8598318-456b-4fd7-9d58-dae5b31f3e8b",
        "outputId": "7167d81e-e667-4b9e-cfa9-3d59d6e4eca1"
      },
      "outputs": [
        {
          "name": "stdout",
          "output_type": "stream",
          "text": [
            "52.8 ms ± 747 µs per loop (mean ± std. dev. of 7 runs, 10 loops each)\n"
          ]
        }
      ],
      "source": [
        "%%timeit\n",
        "jax.grad(crazy_function, argnums=(0,1,2,3,4))(*vals)"
      ]
    },
    {
      "cell_type": "markdown",
      "id": "86d1b2c8-e38d-4b35-8e83-6a9c43a9f6fd",
      "metadata": {
        "id": "86d1b2c8-e38d-4b35-8e83-6a9c43a9f6fd"
      },
      "source": [
        "What if we have several vectors we want to input and take the derivatives of"
      ]
    },
    {
      "cell_type": "markdown",
      "id": "d29c25cc-10b3-4787-84db-9f3c2bf70435",
      "metadata": {
        "id": "d29c25cc-10b3-4787-84db-9f3c2bf70435"
      },
      "source": [
        "# JIT and vmap\n",
        "\n",
        "JIT is a way of calling XLA to look at a function and optimize it"
      ]
    },
    {
      "cell_type": "code",
      "execution_count": 52,
      "id": "f085bb02-c9df-45f3-8ee0-3ad7fcb52708",
      "metadata": {
        "id": "f085bb02-c9df-45f3-8ee0-3ad7fcb52708"
      },
      "outputs": [],
      "source": [
        "slow_function = jax.grad(crazy_function, argnums=(0,1,2,3,4))\n",
        "fast_function = jax.jit(jax.grad(crazy_function, argnums=(0,1,2,3,4)))"
      ]
    },
    {
      "cell_type": "code",
      "execution_count": 53,
      "id": "10395a38-cbe2-4172-83f4-e325bd3f6e4e",
      "metadata": {
        "id": "10395a38-cbe2-4172-83f4-e325bd3f6e4e"
      },
      "outputs": [],
      "source": [
        "slow_function(*vals), fast_function(*vals);"
      ]
    },
    {
      "cell_type": "code",
      "execution_count": 54,
      "id": "ccaaaebd-ec17-4ce3-8f10-5a1de9ea07cb",
      "metadata": {
        "colab": {
          "base_uri": "https://localhost:8080/"
        },
        "id": "ccaaaebd-ec17-4ce3-8f10-5a1de9ea07cb",
        "outputId": "74b59afa-714d-4995-ff6a-7513bdb3a1a7"
      },
      "outputs": [
        {
          "name": "stdout",
          "output_type": "stream",
          "text": [
            "53.4 ms ± 249 µs per loop (mean ± std. dev. of 7 runs, 10 loops each)\n"
          ]
        }
      ],
      "source": [
        "%%timeit\n",
        "slow_function(*vals)"
      ]
    },
    {
      "cell_type": "code",
      "execution_count": 55,
      "id": "bc8580aa-0d97-4f2f-9fa1-fb6a55dda54d",
      "metadata": {
        "colab": {
          "base_uri": "https://localhost:8080/"
        },
        "id": "bc8580aa-0d97-4f2f-9fa1-fb6a55dda54d",
        "outputId": "78b27a93-57d1-4260-d2e8-c558eb906313"
      },
      "outputs": [
        {
          "name": "stdout",
          "output_type": "stream",
          "text": [
            "106 µs ± 1.16 µs per loop (mean ± std. dev. of 7 runs, 10,000 loops each)\n"
          ]
        }
      ],
      "source": [
        "%%timeit\n",
        "fast_function(*vals)"
      ]
    },
    {
      "cell_type": "markdown",
      "id": "cd45198e-7ff2-4378-bf88-81269626edea",
      "metadata": {
        "id": "cd45198e-7ff2-4378-bf88-81269626edea"
      },
      "source": [
        "Generally you want to JIT your outer most function"
      ]
    },
    {
      "cell_type": "markdown",
      "id": "fccf98ec-23e7-4419-972e-76499645e104",
      "metadata": {
        "id": "fccf98ec-23e7-4419-972e-76499645e104"
      },
      "source": [
        "Let's say we have a data set with a shape of $(B,N,d)$ and a function we want to evalute each of these examples on"
      ]
    },
    {
      "cell_type": "code",
      "execution_count": 56,
      "id": "4de75b7a-5162-44ee-b166-5cef9835226b",
      "metadata": {
        "colab": {
          "base_uri": "https://localhost:8080/"
        },
        "id": "4de75b7a-5162-44ee-b166-5cef9835226b",
        "outputId": "fd124cec-9dd5-4dc1-c022-a2e426e1fac0"
      },
      "outputs": [
        {
          "data": {
            "text/plain": [
              "(50, 100)"
            ]
          },
          "execution_count": 56,
          "metadata": {},
          "output_type": "execute_result"
        }
      ],
      "source": [
        "def per_example_func(x):\n",
        "    return jnp.sum(x, axis=-1)\n",
        "\n",
        "B, N, d = 50, 100, 5\n",
        "\n",
        "key = jax.random.PRNGKey(1)\n",
        "data = jax.random.normal(key, shape=(B, N, d))\n",
        "\n",
        "batched_func = jax.vmap(per_example_func, in_axes=0) # which axis are we vectorizing/looping over\n",
        "batched_func(data).shape"
      ]
    },
    {
      "cell_type": "markdown",
      "id": "10c916bf-d6bd-4d6a-aacc-6f8553612186",
      "metadata": {
        "id": "10c916bf-d6bd-4d6a-aacc-6f8553612186"
      },
      "source": [
        "We have 50 examples, 100 data points and 5 dimensions. Across each point we sum the values across all dimension. We expect the ouptut to be $(B,N)$"
      ]
    },
    {
      "cell_type": "code",
      "execution_count": 57,
      "id": "ea403fa1-5a49-45a4-923f-c24a3756e031",
      "metadata": {
        "colab": {
          "base_uri": "https://localhost:8080/"
        },
        "id": "ea403fa1-5a49-45a4-923f-c24a3756e031",
        "outputId": "0e322ba1-5ff7-4ec7-8895-0a1cf7bff6c6"
      },
      "outputs": [
        {
          "data": {
            "text/plain": [
              "(10, 5, 5)"
            ]
          },
          "execution_count": 57,
          "metadata": {},
          "output_type": "execute_result"
        }
      ],
      "source": [
        "def nonlinear_fn(x):\n",
        "    return jnp.tanh(x) * jnp.sin(x) + jnp.cos(x**2)\n",
        "\n",
        "B, d = 10, 5\n",
        "key = jax.random.PRNGKey(1)\n",
        "data = jax.random.normal(key, (B, d))\n",
        "\n",
        "batched_jacobian = jax.vmap(jax.jacobian(nonlinear_fn), in_axes=0)\n",
        "batched_jacobian(data).shape"
      ]
    },
    {
      "cell_type": "markdown",
      "id": "2982282d-09cf-4408-9ef0-466371ad57a1",
      "metadata": {
        "id": "2982282d-09cf-4408-9ef0-466371ad57a1"
      },
      "source": [
        "We have 10 examples each with 5 dimensions. The jacobian evaluated at each of those points is (5,5). We expect the ouput to be $(B,d,d)$"
      ]
    },
    {
      "cell_type": "markdown",
      "id": "944bfd0c-54d6-4e8b-8486-0b27e272df18",
      "metadata": {
        "id": "944bfd0c-54d6-4e8b-8486-0b27e272df18"
      },
      "source": [
        "vmap can also be stacked"
      ]
    },
    {
      "cell_type": "code",
      "execution_count": 58,
      "id": "7e186ce4-2ee6-492c-b118-6ba60aaa4def",
      "metadata": {
        "id": "7e186ce4-2ee6-492c-b118-6ba60aaa4def"
      },
      "outputs": [],
      "source": [
        "B, N, d = 5, 20, 5\n",
        "key = jax.random.PRNGKey(2)\n",
        "data = jax.random.normal(key, (B, N, d))"
      ]
    },
    {
      "cell_type": "code",
      "execution_count": 59,
      "id": "9f1e94cd-d534-43f4-871d-f5c61dc2f3b0",
      "metadata": {
        "colab": {
          "base_uri": "https://localhost:8080/"
        },
        "id": "9f1e94cd-d534-43f4-871d-f5c61dc2f3b0",
        "outputId": "17c4466b-01ff-4474-8f95-8002b191c48f"
      },
      "outputs": [
        {
          "data": {
            "text/plain": [
              "(5, 20, 5, 5)"
            ]
          },
          "execution_count": 59,
          "metadata": {},
          "output_type": "execute_result"
        }
      ],
      "source": [
        "# Vectorize over N\n",
        "batched_jacobian = jax.vmap(jax.jacobian(nonlinear_fn), in_axes=0) # will gives us (N,d,d)\n",
        "\n",
        "# Vectorize over B\n",
        "final_jacobian = jax.vmap(batched_jacobian, in_axes=0) # will give us (B,N,d,d)\n",
        "final_jacobian(data).shape"
      ]
    },
    {
      "cell_type": "markdown",
      "id": "71823150-4ae6-4304-928a-019edf8e4b68",
      "metadata": {
        "id": "71823150-4ae6-4304-928a-019edf8e4b68"
      },
      "source": [
        "Use vmap when needed i.e., vectorizing an operation you might turn to a for loop for (e.g. vectorizing a function over multiple inputs)\n",
        "\n",
        "If you can right something as a for loop you can most likely implement it more efficiently with vmap or maybe even something like `jax.lax.scan`\n",
        "\n",
        "```jax.vmap(fun, in_axes=0, out_axes=0)```\n",
        "\n",
        "```fun```: function you are vectorizing\n",
        "\n",
        "```in_axes```: which axes of you input to ```fun``` are you vectorizing\n",
        "\n",
        "```out_axes```: where do you want the batched axis to end up\n",
        "\n",
        "The length of `in_axes` is the number of function arguments"
      ]
    },
    {
      "cell_type": "code",
      "execution_count": 60,
      "id": "9693e238-6442-44ab-921c-c2177af99085",
      "metadata": {
        "colab": {
          "base_uri": "https://localhost:8080/"
        },
        "id": "9693e238-6442-44ab-921c-c2177af99085",
        "outputId": "ac440dc0-f80a-458a-d991-8a41c3845b88"
      },
      "outputs": [
        {
          "name": "stdout",
          "output_type": "stream",
          "text": [
            "[[ 2.  4.]\n",
            " [ 6. 12.]] (2, 2)\n"
          ]
        }
      ],
      "source": [
        "def multiply(x, y):\n",
        "    return x * y\n",
        "\n",
        "x = jnp.array((1.0, 3.0))\n",
        "\n",
        "y = jnp.array((2.0, 4.0))\n",
        "\n",
        "batched_multiply = jax.vmap(multiply, in_axes=(0,None))\n",
        "\n",
        "result = batched_multiply(x, y)\n",
        "print(result, result.shape)"
      ]
    },
    {
      "cell_type": "code",
      "execution_count": 61,
      "id": "70c64f58-b48e-4a34-931b-342a94cc45cc",
      "metadata": {
        "colab": {
          "base_uri": "https://localhost:8080/"
        },
        "id": "70c64f58-b48e-4a34-931b-342a94cc45cc",
        "outputId": "a774e685-31ab-4805-cb83-68a6275797f6"
      },
      "outputs": [
        {
          "name": "stdout",
          "output_type": "stream",
          "text": [
            "[ 2. 12.] (2,)\n"
          ]
        }
      ],
      "source": [
        "batched_multiply = jax.vmap(multiply, in_axes=(0,0))\n",
        "\n",
        "result = batched_multiply(x, y)\n",
        "print(result, result.shape)"
      ]
    },
    {
      "cell_type": "markdown",
      "id": "d27b2e22-8e9d-4ec7-9cd2-5bb7532be752",
      "metadata": {
        "id": "d27b2e22-8e9d-4ec7-9cd2-5bb7532be752"
      },
      "source": [
        "# Using what we've learned"
      ]
    },
    {
      "cell_type": "code",
      "execution_count": 62,
      "id": "2d7ccad8",
      "metadata": {},
      "outputs": [
        {
          "data": {
            "text/plain": [
              "(5, 20, 5)"
            ]
          },
          "execution_count": 62,
          "metadata": {},
          "output_type": "execute_result"
        }
      ],
      "source": [
        "data.shape # (B, N, d)"
      ]
    },
    {
      "cell_type": "code",
      "execution_count": 63,
      "id": "71f03c85-7bef-4ef0-bc8d-29d5ba12cff8",
      "metadata": {
        "id": "71f03c85-7bef-4ef0-bc8d-29d5ba12cff8"
      },
      "outputs": [],
      "source": [
        "def nonlinear_fn(x):\n",
        "    return jnp.tanh(x) * jnp.sin(x) + jnp.cos(x**2)\n",
        "\n",
        "per_example_jacobian = jax.jacobian(nonlinear_fn)\n",
        "\n",
        "batched_jacobian = jax.vmap(jax.vmap(jax.jacobian(nonlinear_fn), in_axes=0), in_axes=0)"
      ]
    },
    {
      "cell_type": "code",
      "execution_count": 64,
      "id": "904f540d-55e5-4675-8e80-71ebede4e920",
      "metadata": {
        "id": "904f540d-55e5-4675-8e80-71ebede4e920"
      },
      "outputs": [],
      "source": [
        "def loop_jacobian(data):\n",
        "    jacobians = jnp.zeros((B, N, d, d))\n",
        "    for b in range(B):\n",
        "        for n in range(N):\n",
        "            jacobians = jacobians.at[b, n].set(per_example_jacobian(data[b, n]))\n",
        "    return jacobians"
      ]
    },
    {
      "cell_type": "code",
      "execution_count": 65,
      "id": "7fa4ef7a-1b84-45e8-a49d-4d5941a123f2",
      "metadata": {
        "colab": {
          "base_uri": "https://localhost:8080/"
        },
        "id": "7fa4ef7a-1b84-45e8-a49d-4d5941a123f2",
        "outputId": "f5b2acc9-aaac-45ed-abf5-b0709fbe112f"
      },
      "outputs": [
        {
          "name": "stdout",
          "output_type": "stream",
          "text": [
            "9.18 ms ± 122 µs per loop (mean ± std. dev. of 7 runs, 100 loops each)\n"
          ]
        }
      ],
      "source": [
        "%%timeit\n",
        "batched_jacobian(data).block_until_ready()"
      ]
    },
    {
      "cell_type": "code",
      "execution_count": 66,
      "id": "f9b72233-81f5-4e58-a48a-a03b58727d07",
      "metadata": {
        "colab": {
          "base_uri": "https://localhost:8080/"
        },
        "id": "f9b72233-81f5-4e58-a48a-a03b58727d07",
        "outputId": "814efaf5-fe30-4710-aa83-0f29489b1698"
      },
      "outputs": [
        {
          "name": "stdout",
          "output_type": "stream",
          "text": [
            "719 ms ± 8.42 ms per loop (mean ± std. dev. of 7 runs, 1 loop each)\n"
          ]
        }
      ],
      "source": [
        "%%timeit\n",
        "loop_jacobian(data).block_until_ready()"
      ]
    },
    {
      "cell_type": "code",
      "execution_count": 67,
      "id": "ed178ef0-3d44-45c7-b939-a0ce35fed574",
      "metadata": {
        "id": "ed178ef0-3d44-45c7-b939-a0ce35fed574"
      },
      "outputs": [],
      "source": [
        "jit_batched_jacobian = jax.jit(batched_jacobian)\n",
        "jit_loop_jacobian = jax.jit(loop_jacobian)\n",
        "\n",
        "_ = jit_batched_jacobian(data)\n",
        "_ = jit_loop_jacobian(data)"
      ]
    },
    {
      "cell_type": "code",
      "execution_count": 68,
      "id": "4dc4abd0-5860-4bec-bc64-031b981bbe8f",
      "metadata": {
        "colab": {
          "base_uri": "https://localhost:8080/"
        },
        "id": "4dc4abd0-5860-4bec-bc64-031b981bbe8f",
        "outputId": "21a28fd9-5bcb-4f1c-e5f0-985db4e7367e"
      },
      "outputs": [
        {
          "name": "stdout",
          "output_type": "stream",
          "text": [
            "57 µs ± 1.28 µs per loop (mean ± std. dev. of 7 runs, 10,000 loops each)\n"
          ]
        }
      ],
      "source": [
        "%%timeit\n",
        "jit_batched_jacobian(data).block_until_ready()"
      ]
    },
    {
      "cell_type": "code",
      "execution_count": 69,
      "id": "02bbaf89-a3b0-481c-a938-df899d981e18",
      "metadata": {
        "colab": {
          "base_uri": "https://localhost:8080/"
        },
        "id": "02bbaf89-a3b0-481c-a938-df899d981e18",
        "outputId": "f9754d5f-2dda-4197-aed0-c67332ea1a75"
      },
      "outputs": [
        {
          "name": "stdout",
          "output_type": "stream",
          "text": [
            "236 µs ± 4.3 µs per loop (mean ± std. dev. of 7 runs, 1,000 loops each)\n"
          ]
        }
      ],
      "source": [
        "%%timeit\n",
        "jit_loop_jacobian(data).block_until_ready()"
      ]
    },
    {
      "cell_type": "code",
      "execution_count": null,
      "id": "cagB_L1aJW5I",
      "metadata": {
        "id": "cagB_L1aJW5I"
      },
      "outputs": [],
      "source": []
    },
    {
      "cell_type": "markdown",
      "id": "Z6nsO-ee_Cve",
      "metadata": {
        "id": "Z6nsO-ee_Cve"
      },
      "source": [
        "#### Rejection Sampling: Generating observations from a distribution\n",
        "\n",
        "Say we have some distribution $p(x)$ (or even $\\tilde{p}(x)$ which we want to sample from. However, $p(x)$ may be very complicated and so sampling from it may not be easy for possbile. We assume we can evaluted $p(x)$.\n",
        "\n",
        "1. Choose a proposal distribution $q(x)$ which is easy to sample from such that $\\exists c>0$ in which $c\\cdot q(x)\\geq \\tilde{p}(x) ~ \\forall x$.\n",
        "\n",
        "2. Sample $x\\sim q(x)$ and $y\\sim U[0, c\\cdot q(x)]$\n",
        "\n",
        "If $y\\leq \\tilde{p}(x)$ then accept the sample else reject the sample.\n",
        "\n",
        "Let $c = \\max\\left(\\dfrac{\\tilde{p}(x)}{q(x)}\\right)$ because we want $c\\geq\\dfrac{\\tilde{p}(x)}{q(x)}$ it will always be true that $~\\text{max}\\left(\\dfrac{\\tilde{p}(x)}{q(x)}\\right)\\geq\\dfrac{\\tilde{p}(x)}{q(x)}$.\n",
        "\n"
      ]
    },
    {
      "cell_type": "code",
      "execution_count": 70,
      "id": "QVJsfl-H_C6Q",
      "metadata": {
        "id": "QVJsfl-H_C6Q"
      },
      "outputs": [],
      "source": [
        "from functools import partial\n",
        "from jax.scipy.stats.norm import pdf as norm_pdf\n",
        "import seaborn as sns\n",
        "\n",
        "def p(x): # What we want to sample from or approximate samples from\n",
        "    return norm_pdf(x, loc=30, scale=jnp.sqrt(10)) + norm_pdf(x, loc=80, scale=jnp.sqrt(20))\n",
        "\n",
        "def q(x): # Proposal distribution\n",
        "    return norm_pdf(x, loc=40, scale=50)\n",
        "\n",
        "def rejection_step(carry, _):\n",
        "    key, c = carry\n",
        "    key, x_key, y_key = jax.random.split(key, 3)\n",
        "    x_sample = 50 * jax.random.normal(x_key) + 40 # Sample x ~ q(x)\n",
        "    y_sample = jax.random.uniform(y_key, minval=0, maxval=c * q(x_sample)) # sample y ~ U[-, c*q(x)]\n",
        "    cond = y_sample <= p(x_sample) # Check condition\n",
        "    x_sample = jnp.where(cond, x_sample, jnp.nan) # Mask out x if condition is not met\n",
        "    return (key, c), x_sample\n",
        "\n",
        "@partial(jax.jit, static_argnums=(2,))\n",
        "def rejection_scan(key, c, num_samples):\n",
        "    init_carry = (key, c)\n",
        "    _, samples = jax.lax.scan(rejection_step, init_carry, None, length=num_samples)\n",
        "    return samples"
      ]
    },
    {
      "cell_type": "code",
      "execution_count": 71,
      "id": "6782b0a9",
      "metadata": {},
      "outputs": [
        {
          "data": {
            "image/png": "[encoded data removed]",
            "text/plain": [
              "<Figure size 1400x800 with 1 Axes>"
            ]
          },
          "metadata": {},
          "output_type": "display_data"
        }
      ],
      "source": [
        "x_eval = jnp.linspace(-120, 120, 10000)\n",
        "p_eval = p(x_eval)\n",
        "q_eval = q(x_eval)\n",
        "c = jnp.max(p_eval / q_eval)\n",
        "\n",
        "fig, ax = plt.subplots(figsize=(14,8))\n",
        "ax.plot(x_eval, p_eval, label=r\"$p(x)$\")\n",
        "ax.plot(x_eval, c * q_eval, label=r\"$c\\cdot q(x)$\")\n",
        "ax.grid()\n",
        "ax.legend()\n",
        "plt.show()"
      ]
    },
    {
      "cell_type": "code",
      "execution_count": 72,
      "id": "GeLxlbz_AfPW",
      "metadata": {
        "colab": {
          "base_uri": "https://localhost:8080/"
        },
        "id": "GeLxlbz_AfPW",
        "outputId": "2584f7d5-62ce-4e8c-c5a3-2a32dfb3e7ad"
      },
      "outputs": [
        {
          "name": "stdout",
          "output_type": "stream",
          "text": [
            "Rejection mean: 55.348594665527344\n",
            "Rejection var: 639.3859252929688\n"
          ]
        }
      ],
      "source": [
        "x_eval = jnp.linspace(-120, 120, 10000)\n",
        "p_eval = p(x_eval)\n",
        "q_eval = q(x_eval)\n",
        "c = jnp.max(p_eval/q_eval)\n",
        "\n",
        "num_samples = 100000\n",
        "\n",
        "key = jax.random.PRNGKey(1)\n",
        "rejection_samples = rejection_scan(key=key, c=c, num_samples=num_samples)\n",
        "rejection_samples = rejection_samples[~jnp.isnan(rejection_samples)]\n",
        "print(f\"Rejection mean: {rejection_samples.mean()}\")\n",
        "print(f\"Rejection var: {rejection_samples.var()}\")"
      ]
    },
    {
      "cell_type": "markdown",
      "id": "keR4j9lRDfBO",
      "metadata": {
        "id": "keR4j9lRDfBO"
      },
      "source": [
        "Note the true mean is 55 and the true variance is 640"
      ]
    },
    {
      "cell_type": "code",
      "execution_count": 73,
      "id": "vThYoqk-CrpF",
      "metadata": {
        "colab": {
          "base_uri": "https://localhost:8080/",
          "height": 356
        },
        "id": "vThYoqk-CrpF",
        "outputId": "495fec86-3edf-44bf-af6a-29918fd3749c"
      },
      "outputs": [
        {
          "data": {
            "image/png": "[encoded data removed]",
            "text/plain": [
              "<Figure size 1400x800 with 1 Axes>"
            ]
          },
          "metadata": {},
          "output_type": "display_data"
        }
      ],
      "source": [
        "x_eval = jnp.linspace(19, 100, 1000)\n",
        "p_eval = p(x_eval)\n",
        "\n",
        "fig, ax = plt.subplots(figsize=(14,8))\n",
        "sns.histplot(rejection_samples, kde=True, color=\"r\", stat='probability', label=\"Rejection\")\n",
        "ax.plot(x_eval, p_eval, c=\"k\", label=\"$p(x)$\")\n",
        "ax.legend(fontsize=15)\n",
        "plt.show()"
      ]
    },
    {
      "cell_type": "code",
      "execution_count": 74,
      "id": "Xm4qjn6LDijR",
      "metadata": {
        "colab": {
          "base_uri": "https://localhost:8080/"
        },
        "id": "Xm4qjn6LDijR",
        "outputId": "d766c471-3140-4025-ec6d-28902373f9e3"
      },
      "outputs": [
        {
          "name": "stdout",
          "output_type": "stream",
          "text": [
            "594 ms ± 643 µs per loop (mean ± std. dev. of 7 runs, 1 loop each)\n"
          ]
        }
      ],
      "source": [
        "%%timeit\n",
        "rejection_scan(key=key, c=c, num_samples=100000)"
      ]
    },
    {
      "cell_type": "code",
      "execution_count": 75,
      "id": "DfdsQV7KECeD",
      "metadata": {
        "id": "DfdsQV7KECeD"
      },
      "outputs": [],
      "source": [
        "def rejection_loop(key, c, num_samples):\n",
        "  accepted_samples = []\n",
        "  for _ in range(num_samples):\n",
        "      key, x_key, y_key = jax.random.split(key, 3)\n",
        "      x_sample = 50 * jax.random.normal(x_key) + 40\n",
        "      y_sample = jax.random.uniform(y_key, minval=0, maxval=c * q(x_sample))\n",
        "      if y_sample <= p(x_sample):\n",
        "          accepted_samples.append(x_sample)\n",
        "  accepted_samples = jnp.array(accepted_samples)\n",
        "  return accepted_samples"
      ]
    },
    {
      "cell_type": "code",
      "execution_count": 76,
      "id": "gsEXXm0YEnWy",
      "metadata": {
        "colab": {
          "base_uri": "https://localhost:8080/"
        },
        "id": "gsEXXm0YEnWy",
        "outputId": "9e881a7e-68d0-4602-aba5-111a94a89369"
      },
      "outputs": [
        {
          "name": "stdout",
          "output_type": "stream",
          "text": [
            "585 ms ± 6.71 ms per loop (mean ± std. dev. of 7 runs, 1 loop each)\n"
          ]
        }
      ],
      "source": [
        "%%timeit\n",
        "rejection_loop(key=key, c=c, num_samples=150)"
      ]
    },
    {
      "cell_type": "code",
      "execution_count": null,
      "id": "o0wLWU-HE37g",
      "metadata": {
        "id": "o0wLWU-HE37g"
      },
      "outputs": [],
      "source": []
    }
  ],
  "metadata": {
    "accelerator": "GPU",
    "colab": {
      "gpuType": "T4",
      "provenance": []
    },
    "kernelspec": {
      "display_name": "venv_v2",
      "language": "python",
      "name": "python3"
    },
    "language_info": {
      "codemirror_mode": {
        "name": "ipython",
        "version": 3
      },
      "file_extension": ".py",
      "mimetype": "text/x-python",
      "name": "python",
      "nbconvert_exporter": "python",
      "pygments_lexer": "ipython3",
      "version": "3.11.11"
    }
  },
  "nbformat": 4,
  "nbformat_minor": 5
}
